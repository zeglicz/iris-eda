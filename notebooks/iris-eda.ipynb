{
 "cells": [
  {
   "cell_type": "code",
   "execution_count": null,
   "id": "d976120e-f9b6-49e3-8549-3dcd0a4c9c63",
   "metadata": {},
   "outputs": [],
   "source": [
    "import pandas as pd\n",
    "import seaborn as sns\n",
    "import matplotlib.pyplot as plt\n",
    "from sklearn.decomposition import PCA\n",
    "from sklearn.preprocessing import StandardScaler\n",
    "\n",
    "from IPython.display import Markdown\n",
    "from pycaret.classification import setup"
   ]
  },
  {
   "cell_type": "markdown",
   "id": "7eb0b973-9e42-4343-928f-765f9a365f16",
   "metadata": {},
   "source": [
    "# Exploratory Data Analysis (EDA) – Iris Dataset\n",
    "\n",
    "The *Iris Dataset* (also known as Fisher’s Iris Dataset) is a classic and widely used dataset in data analysis and machine learning. It includes measurements of four morphological features for three species of iris flowers: Setosa, Versicolor, and Virginica.\n",
    "\n",
    "**Objective**: To assess whether it is possible to distinguish iris species based on their morphological features — in particular, the dimensions of petals and sepals."
   ]
  },
  {
   "cell_type": "code",
   "execution_count": null,
   "id": "2c07c1f9-f7a9-4d87-8ccd-35de2883a7f2",
   "metadata": {},
   "outputs": [],
   "source": [
    "df = sns.load_dataset('iris')\n",
    "\n",
    "sns.set(style=\"whitegrid\")"
   ]
  },
  {
   "cell_type": "markdown",
   "id": "9f07c73a-cc71-4fda-b38b-a24b0c55c55f",
   "metadata": {},
   "source": [
    "## Basic Information"
   ]
  },
  {
   "cell_type": "code",
   "execution_count": null,
   "id": "e4289d80-112f-4624-8992-510369bcc2e4",
   "metadata": {},
   "outputs": [],
   "source": [
    "Markdown(f\"\"\"\n",
    "### The dataset contains **{len(df)}** rows and **{len(df.columns)}** columns\n",
    "\"\"\")"
   ]
  },
  {
   "cell_type": "code",
   "execution_count": null,
   "id": "e1afd0e1-56a1-42f6-9d47-f68bfb09bfbf",
   "metadata": {},
   "outputs": [],
   "source": [
    "df.dtypes"
   ]
  },
  {
   "cell_type": "code",
   "execution_count": null,
   "id": "1eca310d-22d7-49dd-9036-adeb4593a308",
   "metadata": {},
   "outputs": [],
   "source": [
    "def vivid_flower_colors(row):\n",
    "    color_map = {\n",
    "        'setosa': 'background-color: #FFB6C1; color: black;',\n",
    "        'versicolor': 'background-color: #A569BD; color: white;',\n",
    "        'virginica': 'background-color: #56BAFC; color: white;'\n",
    "    }\n",
    "    return [color_map.get(row['species'], '')] * len(row)\n",
    "\n",
    "df.sample(8, random_state=77).style.apply(vivid_flower_colors, axis=1)"
   ]
  },
  {
   "cell_type": "code",
   "execution_count": null,
   "id": "7bc0077b-5c43-4227-843e-85209b02940f",
   "metadata": {},
   "outputs": [],
   "source": [
    "df['species'].unique()"
   ]
  },
  {
   "cell_type": "code",
   "execution_count": null,
   "id": "43541694-47af-4060-9127-c34dbd0eda0b",
   "metadata": {},
   "outputs": [],
   "source": [
    "df.info()"
   ]
  },
  {
   "cell_type": "code",
   "execution_count": null,
   "id": "99753983-5ac8-41be-907f-0494ba6295e0",
   "metadata": {},
   "outputs": [],
   "source": [
    "df['species'] = df['species'].astype('category')"
   ]
  },
  {
   "cell_type": "code",
   "execution_count": null,
   "id": "d22f079a-69c8-4a76-b86a-ebf3c746edce",
   "metadata": {},
   "outputs": [],
   "source": [
    "species_counts = df['species'].value_counts()\n",
    "species_lines = \"\\n\".join([\n",
    "    f\"- **{species}**: {count} samples\" for species, count in species_counts.items()\n",
    "])\n",
    "\n",
    "Markdown(f\"\"\"\n",
    "### The most important column in the dataset is `species`, which contains labels for **{species_counts.size}** iris species:\n",
    "{species_lines}\n",
    "\"\"\")"
   ]
  },
  {
   "cell_type": "code",
   "execution_count": null,
   "id": "007d23cc-598c-4c5a-97cb-77bcd2a22bfc",
   "metadata": {},
   "outputs": [],
   "source": [
    "df.describe().T"
   ]
  },
  {
   "cell_type": "code",
   "execution_count": null,
   "id": "1457884c-589d-4d2e-914d-dd459ebf6c6e",
   "metadata": {},
   "outputs": [],
   "source": [
    "features = ['sepal_length', 'sepal_width', 'petal_length', 'petal_width']\n",
    "\n",
    "## cm to mm\n",
    "df[features] = (df[features]*10).round(0).astype(int)"
   ]
  },
  {
   "cell_type": "markdown",
   "id": "da96a6ad-d791-4256-8fc7-14d23b67c90a",
   "metadata": {},
   "source": [
    "For each flower, the dataset includes:\n",
    "- **Sepal length** (in mm)\n",
    "- **Sepal width** (in mm)\n",
    "- **Petal length** (in mm)\n",
    "- **Petal width** (in mm)"
   ]
  },
  {
   "cell_type": "code",
   "execution_count": null,
   "id": "d8a96206-e9f0-4391-816a-14ca2d8dfef0",
   "metadata": {},
   "outputs": [],
   "source": [
    "# df.isnull().sum()\n",
    "\n",
    "Markdown(f\"\"\"\n",
    "There are **{df.isnull().sum().sum()}** missing values in the dataset\n",
    "\"\"\")"
   ]
  },
  {
   "cell_type": "code",
   "execution_count": null,
   "id": "82e6e34f-eaa0-41be-9996-7e386154db1c",
   "metadata": {},
   "outputs": [],
   "source": [
    "# df.duplicated().sum()\n",
    "\n",
    "df[df.duplicated(keep=False)]"
   ]
  },
  {
   "cell_type": "code",
   "execution_count": null,
   "id": "47dc0c9f-2ede-4c43-842d-c525fe6564d9",
   "metadata": {},
   "outputs": [],
   "source": [
    "df = df.drop_duplicates(keep='first')"
   ]
  },
  {
   "cell_type": "code",
   "execution_count": null,
   "id": "c714ed5a-36a6-48b0-b084-4d475a1242d7",
   "metadata": {},
   "outputs": [],
   "source": [
    "df.groupby('species').describe().T"
   ]
  },
  {
   "cell_type": "markdown",
   "id": "70a57ece-eb9e-4639-a809-b99cf02a67a1",
   "metadata": {},
   "source": [
    "## Visual Analysis"
   ]
  },
  {
   "cell_type": "markdown",
   "id": "4ca95729-ecef-48ea-b5a4-86cd7d6d1b4f",
   "metadata": {},
   "source": [
    "### Feature Medians by Species – Chart 1\n",
    "\n",
    "This chart presents the median values of all four features (sepal length, sepal width, petal length, and petal width) for each species. The median is the middle value — it represents a typical measurement for that species."
   ]
  },
  {
   "cell_type": "code",
   "execution_count": null,
   "id": "be271a0b-d462-4f0e-81a2-bc02ab1a5d6f",
   "metadata": {},
   "outputs": [],
   "source": [
    "features = ['sepal_length', 'sepal_width', 'petal_length', 'petal_width']\n",
    "medians = df.groupby('species')[features].median().reset_index()\n",
    "\n",
    "medians_melted = medians.melt(id_vars='species', var_name='feature', value_name='median_value')\n",
    "medians_melted['feature'] = medians_melted['feature'].str.replace('_', ' ').str.title()\n",
    "medians_melted['species'] = medians_melted['species'].str.title()\n",
    "\n",
    "fig, ax = plt.subplots(figsize=(12, 7))\n",
    "sns.barplot(\n",
    "    data=medians_melted, \n",
    "    x='feature', \n",
    "    y='median_value', \n",
    "    hue='species', \n",
    "    alpha=0.8, \n",
    "    ax=ax\n",
    ")\n",
    "\n",
    "ax.set_title('Median Measurements of Iris Features by Species', fontsize=20, pad=30)\n",
    "ax.set_xlabel('Feature', fontsize=13, labelpad=20)\n",
    "ax.set_ylabel('Median Value (MM)', fontsize=13, labelpad=30)\n",
    "\n",
    "ax.set_ylim(0, 80)\n",
    "ax.grid(True, axis='y', linestyle='-', alpha=1)\n",
    "plt.xticks(fontsize=17)\n",
    "plt.yticks(fontsize=14)\n",
    "\n",
    "plt.tight_layout(pad=2)\n",
    "plt.show()"
   ]
  },
  {
   "cell_type": "markdown",
   "id": "860aff99-9149-4789-b847-b8eb3e009c93",
   "metadata": {},
   "source": [
    "**Insights**:\n",
    "- *Iris Setosa* has much shorter and narrower petals than the other two species.\n",
    "- *Iris Virginica* has the longest petals and sepals overall.\n",
    "- *Iris Versicolor* lies in between — acting as a transition form.\n",
    "- Even at this stage, petal length appears to be a strong distinguishing feature between species."
   ]
  },
  {
   "cell_type": "markdown",
   "id": "d18367cd-a430-4569-abd6-db3a30e8e60f",
   "metadata": {},
   "source": [
    "### Feature Medians by Trait – Chart 2 (Rotated View)\n",
    "\n",
    "This chart shows the same data but from a different perspective — for each feature, it compares medians across all three species."
   ]
  },
  {
   "cell_type": "code",
   "execution_count": null,
   "id": "cd9fe4e3-1a49-4630-990a-681925102ff8",
   "metadata": {},
   "outputs": [],
   "source": [
    "features = ['sepal_length', 'sepal_width', 'petal_length', 'petal_width']\n",
    "medians = df.groupby('species')[features].median().reset_index()\n",
    "\n",
    "medians_melted = medians.melt(id_vars='species', var_name='feature', value_name='median_value')\n",
    "medians_melted['feature'] = medians_melted['feature'].str.replace('_', ' ').str.title()\n",
    "medians_melted['species'] = medians_melted['species'].str.title()\n",
    "\n",
    "fig, ax = plt.subplots(figsize=(13, 7))\n",
    "sns.barplot(\n",
    "    data=medians_melted, \n",
    "    x='species', \n",
    "    y='median_value', \n",
    "    hue='feature', \n",
    "    alpha=0.8, \n",
    "    ax=ax\n",
    ")\n",
    "\n",
    "ax.set_title('Median Measurements of Iris Species by Feature', fontsize=20, pad=30)\n",
    "ax.set_xlabel('Species', fontsize=13, labelpad=20)\n",
    "ax.set_ylabel('Median Value (MM)', fontsize=13, labelpad=30)\n",
    "\n",
    "ax.set_ylim(0, 80)\n",
    "ax.grid(True, axis='y', linestyle='-', alpha=1)\n",
    "plt.xticks(fontsize=17)\n",
    "plt.yticks(fontsize=14)\n",
    "\n",
    "plt.tight_layout(pad=2)\n",
    "plt.show()"
   ]
  },
  {
   "cell_type": "markdown",
   "id": "7ae7932f-15be-4025-a983-71a90f716720",
   "metadata": {},
   "source": [
    "**Insights**:\n",
    "- Petal length and width differ significantly between species.\n",
    "- Sepal width shows less distinction — especially between Versicolor and Virginica."
   ]
  },
  {
   "cell_type": "markdown",
   "id": "3374910c-11b7-4bed-987e-e435f1f7da4c",
   "metadata": {},
   "source": [
    "## Feature Distributions and Outlier Analysis"
   ]
  },
  {
   "cell_type": "markdown",
   "id": "a0a53124-1f21-4195-9a87-5fe6cd90fc50",
   "metadata": {},
   "source": [
    "### Boxplots – Feature Distribution by Species\n",
    "\n",
    "Each boxplot shows how a specific feature is distributed across the three species. The line in the middle of the box indicates the median; the box spans typical values, and dots represent potential outliers."
   ]
  },
  {
   "cell_type": "code",
   "execution_count": null,
   "id": "d8ee7a44-c8a4-4f0b-b9f3-4f8da3594d7c",
   "metadata": {},
   "outputs": [],
   "source": [
    "df_melted = df.melt(id_vars='species', var_name='feature', value_name='value')\n",
    "df_melted['feature'] = df_melted['feature'].str.replace('_', ' ').str.title()\n",
    "df_melted['species'] = df_melted['species'].str.title()\n",
    "\n",
    "features = df_melted['feature'].unique()\n",
    "\n",
    "for feature in features:\n",
    "    fig, ax = plt.subplots(figsize=(10, 6))\n",
    "    sns.boxplot(\n",
    "        data=df_melted[df_melted['feature'] == feature],\n",
    "        x='species',\n",
    "        y='value',\n",
    "        palette='Set2',\n",
    "        linewidth=1.8,\n",
    "        fliersize=4,\n",
    "        ax=ax\n",
    "    )\n",
    "\n",
    "    ax.set_title(f'{feature} Distribution by Species', fontsize=18, pad=15)\n",
    "    ax.set_xlabel('Species', fontsize=14, labelpad=10)\n",
    "    ax.set_ylabel('Value (mm)', fontsize=14, labelpad=10)\n",
    "    \n",
    "    ax.grid(axis='y', linestyle='--', alpha=.8)\n",
    "    plt.xticks(fontsize=15)\n",
    "    plt.yticks(fontsize=12)\n",
    "\n",
    "    plt.tight_layout(pad=2)\n",
    "    plt.show()"
   ]
  },
  {
   "cell_type": "markdown",
   "id": "e93769da-f754-4780-984d-169259e7d5e6",
   "metadata": {},
   "source": [
    "**Insights**:\n",
    "- Petal length and petal width are highly discriminative — Setosa’s values do not overlap with the other two species.\n",
    "- Sepal width shows overlapping distributions — it may be less useful for classification.\n",
    "- A few outliers are present, but overall the data appears clean and well-structured."
   ]
  },
  {
   "cell_type": "code",
   "execution_count": null,
   "id": "7a4b049a-4d81-44d1-9179-508fb13c5e07",
   "metadata": {},
   "outputs": [],
   "source": [
    "# optional and not strictly necessary.\n",
    "\n",
    "# Q1 = df[feature].quantile(0.25)\n",
    "# Q3 = df[feature].quantile(0.75)\n",
    "# IQR = Q3 - Q1\n",
    "# outliers = df[(df[feature] < Q1 - 1.5 * IQR) | (df[feature] > Q3 + 1.5 * IQR)]"
   ]
  },
  {
   "cell_type": "markdown",
   "id": "6a128f78-a6c8-4842-a9a4-c1ad368e088e",
   "metadata": {},
   "source": [
    "## Relationships Between Features"
   ]
  },
  {
   "cell_type": "markdown",
   "id": "2a203882-c574-4f4e-94a3-234e53f0db4b",
   "metadata": {},
   "source": [
    "### Correlation Matrix\n",
    "\n",
    "A correlation matrix shows how strongly the features are related to one another (values range from -1 to 1)."
   ]
  },
  {
   "cell_type": "code",
   "execution_count": null,
   "id": "0d8d1b98-c06c-4dab-9f87-5da0b9de4ee0",
   "metadata": {},
   "outputs": [],
   "source": [
    "features = ['sepal_length', 'sepal_width', 'petal_length', 'petal_width']\n",
    "correlation_matrix = df[features].corr()\n",
    "\n",
    "# replace underscores and capitalize feature names for better readability\n",
    "readable_labels = [col.replace('_', ' ').title() for col in correlation_matrix.columns]\n",
    "correlation_matrix.columns = readable_labels\n",
    "correlation_matrix.index = readable_labels\n",
    "\n",
    "plt.figure(figsize=(6, 6))\n",
    "sns.heatmap(correlation_matrix, annot=True, fmt=\".2f\", cmap='coolwarm', vmin=-1, vmax=1, square=True,\n",
    "            cbar_kws={\"shrink\": .75}, linewidths=1, linecolor='white')\n",
    "\n",
    "plt.title('Correlation Matrix of Iris Features', fontsize=16, pad=20)\n",
    "plt.xticks(rotation=45, ha='right', fontsize=12)\n",
    "plt.yticks(rotation=0, fontsize=12)\n",
    "plt.tight_layout()\n",
    "plt.show()"
   ]
  },
  {
   "cell_type": "markdown",
   "id": "1a72a868-4d06-4842-909f-0e0a0e805009",
   "metadata": {},
   "source": [
    "**Insights**:\n",
    "- The strongest correlation is between petal length and petal width (`0.96`) — these grow together.\n",
    "- Sepal length is moderately correlated with petal length (`0.87`), suggesting flowers with longer sepals tend to have longer petals.\n",
    "- There’s also a notable correlation between sepal length and petal width (`0.82`)."
   ]
  },
  {
   "cell_type": "markdown",
   "id": "0791769b-0dcb-4ea4-9da5-c24babb36c62",
   "metadata": {},
   "source": [
    "## Dimensionality Reduction"
   ]
  },
  {
   "cell_type": "markdown",
   "id": "b9e2f019-1a6f-480f-9834-2301aa1396f9",
   "metadata": {},
   "source": [
    "### PCA – Principal Component Analysis\n",
    "\n",
    "Principal Component Analysis (PCA) reduces the dataset to two dimensions while preserving as much variance as possible. Each point in the plot represents a flower, colored by species."
   ]
  },
  {
   "cell_type": "code",
   "execution_count": null,
   "id": "697ce8a6-84cf-457e-ba02-b4cba28c661e",
   "metadata": {},
   "outputs": [],
   "source": [
    "X = df.drop('species', axis=1)\n",
    "scaler = StandardScaler()\n",
    "X_scaled = scaler.fit_transform(X)\n",
    "\n",
    "pca = PCA(n_components=2)\n",
    "X_pca = pca.fit_transform(X_scaled)\n",
    "df_pca = pd.DataFrame(X_pca, columns=['PC1', 'PC2'])\n",
    "df_pca['species'] = df['species']\n",
    "\n",
    "fig, ax = plt.subplots(figsize=(12, 7))\n",
    "sns.scatterplot(\n",
    "    data=df_pca, \n",
    "    x='PC1', \n",
    "    y='PC2', \n",
    "    hue='species', \n",
    "    palette='Dark2'\n",
    ")\n",
    "\n",
    "ax.set_title(\"PCA: Projection of the data onto the two main principal components\", fontsize=20, pad=30)\n",
    "ax.set_xlabel('PC1', fontsize=15, labelpad=20)\n",
    "ax.set_ylabel('PC2', fontsize=15, labelpad=30)\n",
    "\n",
    "ax.grid(True, axis='y', linestyle='-', alpha=1)\n",
    "plt.xticks(fontsize=17)\n",
    "plt.yticks(fontsize=14)\n",
    "\n",
    "plt.tight_layout(pad=2)\n",
    "plt.show()"
   ]
  },
  {
   "cell_type": "markdown",
   "id": "9c73e726-60d0-4b28-b4fc-ba344c8371f4",
   "metadata": {},
   "source": [
    "**Insights**:\n",
    "- The three species form distinct clusters — especially *Setosa*, which is clearly separated.\n",
    "- *Versicolor* and *Virginica* are closer together but still partially separable.\n",
    "- PCA confirms that the dataset is well-structured and likely suitable for accurate classification."
   ]
  },
  {
   "cell_type": "markdown",
   "id": "74bda70d-e926-4c78-93af-14bbc0d8ebc1",
   "metadata": {},
   "source": [
    "## Feature Importance"
   ]
  },
  {
   "cell_type": "markdown",
   "id": "ece85ca4-2654-4e63-9896-254a4b126681",
   "metadata": {},
   "source": [
    "### Which Features Matter Most?\n",
    "\n",
    "To objectively evaluate which features are most important for distinguishing between iris species, a classification model was trained and the resulting feature importances were analyzed."
   ]
  },
  {
   "cell_type": "code",
   "execution_count": null,
   "id": "798d89f0-ddaf-49de-b702-477d9b106ef0",
   "metadata": {},
   "outputs": [],
   "source": [
    "exp = setup(\n",
    "    data=df,\n",
    "    target='species',\n",
    "    session_id=77,\n",
    "    verbose=False\n",
    ")"
   ]
  },
  {
   "cell_type": "code",
   "execution_count": null,
   "id": "55281572-2e37-4a5b-a1b7-25c37e6afb2a",
   "metadata": {},
   "outputs": [],
   "source": [
    "# exculde all models without feature_importances_ and coef_\n",
    "model = exp.compare_models(\n",
    "    exclude=['qda', 'lda', 'nb', 'knn', 'svm', 'ridge', 'dummy'], verbose=False\n",
    ")"
   ]
  },
  {
   "cell_type": "code",
   "execution_count": null,
   "id": "25736e57-9635-402c-9156-33388125667d",
   "metadata": {},
   "outputs": [],
   "source": [
    "exp.plot_model(model, plot='feature')"
   ]
  },
  {
   "cell_type": "markdown",
   "id": "400b68f2-06be-4697-ab1f-5d4983b6813b",
   "metadata": {},
   "source": [
    "**Insights**:\n",
    "- **Petal Length (0.58)** is the most important feature for classification.\n",
    "- **Petal Width** and **Sepal Width** also contribute meaningfully, with similar importance scores.\n",
    "- **Sepal Length (0.06)** has minimal importance — it adds little to distinguishing the species."
   ]
  },
  {
   "cell_type": "markdown",
   "id": "b910b22e-16cb-47bf-9e11-cca3e431ed06",
   "metadata": {},
   "source": [
    "## Final Conclusions\n",
    "\n",
    "- Petal measurements — especially **petal length** — are the most useful features for species classification.\n",
    "- *Iris Setosa* is the most distinct species, characterized by its short, narrow petals and relatively wide sepals.\n",
    "- *Iris Virginica* and *Versicolor* are more similar but can still be separated based on petal size.\n",
    "- Sepal width is the only feature where Setosa scores higher than the other species, making it a unique trait.\n",
    "- High correlations between petal length and width suggest these dimensions grow proportionally.\n",
    "- A machine learning model confirmed that petal dimensions are the most important features for species identification.\n",
    "- With just four simple measurements, we can accurately distinguish between three iris species — a testament to how effectively nature encodes species differences into physical traits."
   ]
  },
  {
   "cell_type": "code",
   "execution_count": null,
   "id": "a30d930c-fe79-4881-a2ab-17f274134454",
   "metadata": {},
   "outputs": [],
   "source": [
    "# !jupyter nbconvert --to html --no-input --no-prompt iris-eda.ipynb --output ../reports/html/iris-eda.html"
   ]
  },
  {
   "cell_type": "code",
   "execution_count": null,
   "id": "3b78c488-bf8f-4d22-a550-487cc775ab92",
   "metadata": {},
   "outputs": [],
   "source": [
    "# !conda env export > ../environment.yaml"
   ]
  }
 ],
 "metadata": {
  "kernelspec": {
   "display_name": "Python 3 (ipykernel)",
   "language": "python",
   "name": "python3"
  },
  "language_info": {
   "codemirror_mode": {
    "name": "ipython",
    "version": 3
   },
   "file_extension": ".py",
   "mimetype": "text/x-python",
   "name": "python",
   "nbconvert_exporter": "python",
   "pygments_lexer": "ipython3",
   "version": "3.10.16"
  }
 },
 "nbformat": 4,
 "nbformat_minor": 5
}
